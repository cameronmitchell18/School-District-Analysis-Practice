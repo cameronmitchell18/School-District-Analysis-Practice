{
 "cells": [
  {
   "cell_type": "code",
   "execution_count": null,
   "id": "5373f4dd",
   "metadata": {},
   "outputs": [],
   "source": [
    "import pandas as pd \n",
    "\n",
    "student_data_to_load = 'Resources/students_complete.csv'\n",
    "\n",
    "student_data_df = pd.read_csv(student_data_to_load)\n",
    "\n",
    "student_data_df.head()\n",
    "\n",
    "student_names = student_data_df['student_name']\n",
    "\n",
    "student_names\n",
    "\n",
    "students_to_fix = []\n",
    "prefixes = []\n",
    "suffixes = []\n",
    "prefixes_suffixes = [\"Dr. \", \"Mr. \",\"Ms. \", \"Mrs. \", \"Miss \", \" MD\", \" DDS\", \" DVM\", \" PhD\"]\n",
    "#ex = 'Dr. Linda Santiago'\n",
    "\n",
    "for name in student_names: \n",
    "   if len (name.split()) >= 3:\n",
    "    students_to_fix.append(name)\n",
    "\n",
    "for name in students_to_fix:\n",
    "    if len(name.split()[0]) <= 4:\n",
    "        prefixes.append(name.split()[0])\n",
    "\n",
    "for name in students_to_fix:\n",
    "    if len(name.split()[-1]) <= 3:\n",
    "        suffixes.append(name.split()[-1])\n",
    "        \n",
    "for word in prefixes_suffixes:\n",
    "    student_data_df['student_name'] = student_data_df['student_name'].str.replace(word,'')\n",
    "\n",
    "    \n",
    "#combine the data into a single dataset\n",
    "\n",
    "\n",
    "\n",
    "#ex.replace('Dr. ', '')"
   ]
  },
  {
   "cell_type": "code",
   "execution_count": null,
   "id": "1855290f",
   "metadata": {},
   "outputs": [],
   "source": [
    "# List of high schools\n",
    "high_schools = [\"Hernandez High School\", \"Figueroa High School\",\n",
    "                \"Wilson High School\",\"Wright High School\"]\n",
    "for school in high_schools:\n",
    "    print(school)\n",
    " # A dictionary of high schools and the type of school.\n",
    "high_school_types = [{\"High School\": \"Griffin\", \"Type\":\"District\"},\n",
    "                    {\"High School\": \"Figueroa\", \"Type\": \"District\"},\n",
    "                    {\"High School\": \"Wilson\", \"Type\": \"Charter\"},\n",
    "                    {\"High School\": \"Wright\", \"Type\": \"Charter\"}]   "
   ]
  },
  {
   "cell_type": "code",
   "execution_count": null,
   "id": "afaf212c",
   "metadata": {},
   "outputs": [],
   "source": [
    "import pandas as pd\n",
    "\n",
    "# List of high schools\n",
    "high_schools = [\"Huang High School\",  \"Figueroa High School\", \"Shelton High School\", \"Hernandez High School\",\"Griffin High School\",\"Wilson High School\", \"Cabrera High School\", \"Bailey High School\", \"Holden High School\", \"Pena High School\", \"Wright High School\",\"Rodriguez High School\", \"Johnson High School\", \"Ford High School\", \"Thomas High School\"]\n",
    "\n",
    "school_series = pd.Series(high_schools)\n",
    "school_series"
   ]
  },
  {
   "cell_type": "code",
   "execution_count": null,
   "id": "b224f564",
   "metadata": {},
   "outputs": [],
   "source": [
    "# A dictionary of high schools\n",
    "high_school_dicts = [{\"School ID\": 0, \"school_name\": \"Huang High    School\", \"type\": \"District\"},\n",
    "                   {\"School ID\": 1, \"school_name\": \"Figueroa High School\", \"type\": \"District\"},\n",
    "                    {\"School ID\": 2, \"school_name\":\"Shelton High School\", \"type\": \"Charter\"},\n",
    "                    {\"School ID\": 3, \"school_name\":\"Hernandez High School\", \"type\": \"District\"},\n",
    "                    {\"School ID\": 4, \"school_name\":\"Griffin High School\", \"type\": \"Charter\"}]\n",
    "school_df = pd.DataFrame(high_school_dicts)\n",
    "school_df\n"
   ]
  },
  {
   "cell_type": "code",
   "execution_count": 5,
   "id": "e1e2f69b",
   "metadata": {},
   "outputs": [
    {
     "data": {
      "text/plain": [
       "array(['Huang High School', 'Figueroa High School', 'Shelton High School',\n",
       "       'Hernandez High School', 'Griffin High School',\n",
       "       'Wilson High School', 'Cabrera High School', 'Bailey High School',\n",
       "       'Holden High School', 'Pena High School', 'Wright High School',\n",
       "       'Rodriguez High School', 'Johnson High School', 'Ford High School',\n",
       "       'Thomas High School'], dtype=object)"
      ]
     },
     "execution_count": 5,
     "metadata": {},
     "output_type": "execute_result"
    }
   ],
   "source": [
    "import pandas as pd\n",
    "\n",
    "# Files to load \n",
    "school_data_to_load = 'Resources/schools_complete.csv'\n",
    "student_data_to_load = 'Resources/students_complete.csv'\n",
    "\n",
    "school_data_df = pd.read_csv(school_data_to_load)\n",
    "student_data_df = pd.read_csv(student_data_to_load)\n",
    "\n",
    "#school_data_df\n",
    "#student_data_df\n",
    "# Merging the two CSV files together (using a new variable name). At least 1 header has to be the same name in each CSV to merge. \n",
    "school_data_complete_df = pd.merge(student_data_df, school_data_df, on = ['school_name' , 'school_name'])\n",
    "school_data_complete_df.head()\n",
    "\n",
    "#Counting the number of students in the new dataframe \n",
    "student_count = school_data_complete_df.count()\n",
    "student_count\n",
    "\n",
    "#counting the number of 'Studnet ID' in the new merged file.\n",
    "school_data_complete_df[\"Student ID\"].count()\n",
    "\n",
    "# Getting the total number of schools.\n",
    "school_count = school_data_df['school_name'].count()\n",
    "school_count\n",
    "\n",
    "#if we want to get the count of the school names from the school_data_complete we have to first get the unique() identifiers.\n",
    "#This out puts an 'ndarray' or 'n-dimensional array' of all unique values for the given column name.\n",
    "school_count_2 = school_data_complete_df = school_data_complete_df['school_name'].unique()\n",
    "school_count_2\n"
   ]
  },
  {
   "cell_type": "code",
   "execution_count": null,
   "id": "ec4b59e2",
   "metadata": {},
   "outputs": [],
   "source": [
    "import pandas as pd\n",
    "\n",
    "file_to_load = 'Resources/missing_grades.csv'\n",
    "\n",
    "# Read the CSV into a dataframe \n",
    "missing_grades_df = pd.read_csv(file_to_load)\n",
    "missing_grades_df.fillna(85)\n"
   ]
  }
 ],
 "metadata": {
  "kernelspec": {
   "display_name": "PythonData",
   "language": "python",
   "name": "pythondata"
  },
  "language_info": {
   "codemirror_mode": {
    "name": "ipython",
    "version": 3
   },
   "file_extension": ".py",
   "mimetype": "text/x-python",
   "name": "python",
   "nbconvert_exporter": "python",
   "pygments_lexer": "ipython3",
   "version": "3.10.4"
  }
 },
 "nbformat": 4,
 "nbformat_minor": 5
}
